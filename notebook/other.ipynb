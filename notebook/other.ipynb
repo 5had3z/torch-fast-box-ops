{
 "cells": [
  {
   "cell_type": "code",
   "execution_count": 1,
   "id": "2dce1a64",
   "metadata": {},
   "outputs": [],
   "source": [
    "import torch\n",
    "import torchvision\n",
    "from torch_fast_box_ops import box_convert"
   ]
  },
  {
   "cell_type": "code",
   "execution_count": 5,
   "id": "6f1a9796",
   "metadata": {},
   "outputs": [
    {
     "name": "stdout",
     "output_type": "stream",
     "text": [
      "tv_xyxy tensor([[ 0.0833, -0.0014, -0.0833,  0.0014]])\n",
      "tv_cxcywh tensor([[ 0.0000,  0.0000, -0.0833,  0.0014]])\n",
      "tbo_xyxy tensor([[ 0.0833, -0.0014, -0.0833,  0.0014]])\n",
      "tv_cxcywh tensor([[ 0.0000,  0.0000, -0.0833,  0.0014]])\n",
      "Input box: tensor([[10., 20., 10., 10.]], requires_grad=True)\n",
      "Converted box (xyxy): tensor([[ 5., 15., 15., 25.]], grad_fn=<StackBackward0>)\n",
      "Gradients: tensor([[ 0.0000,  0.0000, -0.1667,  0.0028]])\n"
     ]
    }
   ],
   "source": [
    "# Create a box tensor with requires_grad=True\n",
    "box_cxcywh = torch.tensor([[10.0, 20.0, 10.0, 10.0]], requires_grad=True)  # cxcywh format\n",
    "box_cxcywh.register_hook(lambda grad: print(\"tv_cxcywh\", grad))\n",
    "\n",
    "# Convert from xyxy to cxcywh\n",
    "box_xyxy = torchvision.ops.box_convert(box_cxcywh, in_fmt=\"cxcywh\", out_fmt=\"xyxy\")\n",
    "box_xyxy.register_hook(lambda grad: print(\"tv_xyxy\", grad))\n",
    "\n",
    "tbo_cxcywh = box_cxcywh.clone()\n",
    "tbo_xyxy = box_convert(box_cxcywh, in_fmt=\"cxcywh\", out_fmt=\"xyxy\")\n",
    "tbo_xyxy.register_hook(lambda grad: print(\"tbo_xyxy\", grad))\n",
    "\n",
    "target_xyxy = torch.tensor([[4., 15., 16., 25.]])  # target in xyxy format\n",
    "\n",
    "# Let's sum the output to get a scalar and call backward\n",
    "torchvision.ops.generalized_box_iou_loss(box_xyxy, target_xyxy).sum().backward()\n",
    "torchvision.ops.generalized_box_iou_loss(tbo_xyxy, target_xyxy).sum().backward()\n",
    "\n",
    "# Show the gradients with respect to the input box\n",
    "print(\"Input box:\", box_cxcywh)\n",
    "print(\"Converted box (xyxy):\", box_xyxy)\n",
    "print(\"Gradients:\", box_cxcywh.grad)\n"
   ]
  }
 ],
 "metadata": {
  "kernelspec": {
   "display_name": "venv",
   "language": "python",
   "name": "python3"
  },
  "language_info": {
   "codemirror_mode": {
    "name": "ipython",
    "version": 3
   },
   "file_extension": ".py",
   "mimetype": "text/x-python",
   "name": "python",
   "nbconvert_exporter": "python",
   "pygments_lexer": "ipython3",
   "version": "3.12.3"
  }
 },
 "nbformat": 4,
 "nbformat_minor": 5
}
